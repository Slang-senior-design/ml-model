{
 "cells": [
  {
   "cell_type": "markdown",
   "metadata": {},
   "source": [
    "The data is loaded from the CSV file and the target variable converted to one-hot encodings."
   ]
  },
  {
   "cell_type": "code",
   "execution_count": 1,
   "metadata": {},
   "outputs": [
    {
     "data": {
      "text/html": [
       "<div>\n",
       "<style scoped>\n",
       "    .dataframe tbody tr th:only-of-type {\n",
       "        vertical-align: middle;\n",
       "    }\n",
       "\n",
       "    .dataframe tbody tr th {\n",
       "        vertical-align: top;\n",
       "    }\n",
       "\n",
       "    .dataframe thead th {\n",
       "        text-align: right;\n",
       "    }\n",
       "</style>\n",
       "<table border=\"1\" class=\"dataframe\">\n",
       "  <thead>\n",
       "    <tr style=\"text-align: right;\">\n",
       "      <th></th>\n",
       "      <th>class</th>\n",
       "      <th>pixel0</th>\n",
       "      <th>pixel1</th>\n",
       "      <th>pixel2</th>\n",
       "      <th>pixel3</th>\n",
       "      <th>pixel4</th>\n",
       "      <th>pixel5</th>\n",
       "      <th>pixel6</th>\n",
       "      <th>pixel7</th>\n",
       "      <th>pixel8</th>\n",
       "      <th>...</th>\n",
       "      <th>pixel9990</th>\n",
       "      <th>pixel9991</th>\n",
       "      <th>pixel9992</th>\n",
       "      <th>pixel9993</th>\n",
       "      <th>pixel9994</th>\n",
       "      <th>pixel9995</th>\n",
       "      <th>pixel9996</th>\n",
       "      <th>pixel9997</th>\n",
       "      <th>pixel9998</th>\n",
       "      <th>pixel9999</th>\n",
       "    </tr>\n",
       "  </thead>\n",
       "  <tbody>\n",
       "    <tr>\n",
       "      <th>0</th>\n",
       "      <td>alone</td>\n",
       "      <td>109</td>\n",
       "      <td>109</td>\n",
       "      <td>109</td>\n",
       "      <td>109</td>\n",
       "      <td>109</td>\n",
       "      <td>109</td>\n",
       "      <td>109</td>\n",
       "      <td>109</td>\n",
       "      <td>109</td>\n",
       "      <td>...</td>\n",
       "      <td>109</td>\n",
       "      <td>109</td>\n",
       "      <td>109</td>\n",
       "      <td>109</td>\n",
       "      <td>109</td>\n",
       "      <td>109</td>\n",
       "      <td>109</td>\n",
       "      <td>109</td>\n",
       "      <td>109</td>\n",
       "      <td>109</td>\n",
       "    </tr>\n",
       "    <tr>\n",
       "      <th>1</th>\n",
       "      <td>alone</td>\n",
       "      <td>109</td>\n",
       "      <td>109</td>\n",
       "      <td>109</td>\n",
       "      <td>109</td>\n",
       "      <td>109</td>\n",
       "      <td>109</td>\n",
       "      <td>109</td>\n",
       "      <td>109</td>\n",
       "      <td>109</td>\n",
       "      <td>...</td>\n",
       "      <td>109</td>\n",
       "      <td>109</td>\n",
       "      <td>109</td>\n",
       "      <td>109</td>\n",
       "      <td>109</td>\n",
       "      <td>109</td>\n",
       "      <td>109</td>\n",
       "      <td>109</td>\n",
       "      <td>109</td>\n",
       "      <td>109</td>\n",
       "    </tr>\n",
       "    <tr>\n",
       "      <th>2</th>\n",
       "      <td>alone</td>\n",
       "      <td>109</td>\n",
       "      <td>109</td>\n",
       "      <td>109</td>\n",
       "      <td>109</td>\n",
       "      <td>109</td>\n",
       "      <td>109</td>\n",
       "      <td>109</td>\n",
       "      <td>109</td>\n",
       "      <td>109</td>\n",
       "      <td>...</td>\n",
       "      <td>109</td>\n",
       "      <td>109</td>\n",
       "      <td>109</td>\n",
       "      <td>109</td>\n",
       "      <td>109</td>\n",
       "      <td>109</td>\n",
       "      <td>109</td>\n",
       "      <td>109</td>\n",
       "      <td>109</td>\n",
       "      <td>109</td>\n",
       "    </tr>\n",
       "    <tr>\n",
       "      <th>3</th>\n",
       "      <td>alone</td>\n",
       "      <td>109</td>\n",
       "      <td>109</td>\n",
       "      <td>109</td>\n",
       "      <td>109</td>\n",
       "      <td>109</td>\n",
       "      <td>109</td>\n",
       "      <td>109</td>\n",
       "      <td>109</td>\n",
       "      <td>109</td>\n",
       "      <td>...</td>\n",
       "      <td>109</td>\n",
       "      <td>109</td>\n",
       "      <td>109</td>\n",
       "      <td>109</td>\n",
       "      <td>109</td>\n",
       "      <td>109</td>\n",
       "      <td>109</td>\n",
       "      <td>109</td>\n",
       "      <td>109</td>\n",
       "      <td>109</td>\n",
       "    </tr>\n",
       "    <tr>\n",
       "      <th>4</th>\n",
       "      <td>alone</td>\n",
       "      <td>109</td>\n",
       "      <td>109</td>\n",
       "      <td>109</td>\n",
       "      <td>109</td>\n",
       "      <td>109</td>\n",
       "      <td>109</td>\n",
       "      <td>109</td>\n",
       "      <td>109</td>\n",
       "      <td>109</td>\n",
       "      <td>...</td>\n",
       "      <td>109</td>\n",
       "      <td>109</td>\n",
       "      <td>109</td>\n",
       "      <td>109</td>\n",
       "      <td>109</td>\n",
       "      <td>109</td>\n",
       "      <td>109</td>\n",
       "      <td>109</td>\n",
       "      <td>109</td>\n",
       "      <td>109</td>\n",
       "    </tr>\n",
       "  </tbody>\n",
       "</table>\n",
       "<p>5 rows × 10001 columns</p>\n",
       "</div>"
      ],
      "text/plain": [
       "   class  pixel0  pixel1  pixel2  pixel3  pixel4  pixel5  pixel6  pixel7  \\\n",
       "0  alone     109     109     109     109     109     109     109     109   \n",
       "1  alone     109     109     109     109     109     109     109     109   \n",
       "2  alone     109     109     109     109     109     109     109     109   \n",
       "3  alone     109     109     109     109     109     109     109     109   \n",
       "4  alone     109     109     109     109     109     109     109     109   \n",
       "\n",
       "   pixel8  ...  pixel9990  pixel9991  pixel9992  pixel9993  pixel9994  \\\n",
       "0     109  ...        109        109        109        109        109   \n",
       "1     109  ...        109        109        109        109        109   \n",
       "2     109  ...        109        109        109        109        109   \n",
       "3     109  ...        109        109        109        109        109   \n",
       "4     109  ...        109        109        109        109        109   \n",
       "\n",
       "   pixel9995  pixel9996  pixel9997  pixel9998  pixel9999  \n",
       "0        109        109        109        109        109  \n",
       "1        109        109        109        109        109  \n",
       "2        109        109        109        109        109  \n",
       "3        109        109        109        109        109  \n",
       "4        109        109        109        109        109  \n",
       "\n",
       "[5 rows x 10001 columns]"
      ]
     },
     "execution_count": 1,
     "metadata": {},
     "output_type": "execute_result"
    }
   ],
   "source": [
    "import pandas as pd\n",
    "columns = [\"pixel\"+str(i) for i in range(10000)]\n",
    "df = pd.read_csv(\"mapping.csv\", names=[\"class\"]+columns, dtype={'class':str, 'img':str})\n",
    "df.head()"
   ]
  },
  {
   "cell_type": "code",
   "execution_count": 2,
   "metadata": {},
   "outputs": [
    {
     "data": {
      "text/plain": [
       "(169, 10001)"
      ]
     },
     "execution_count": 2,
     "metadata": {},
     "output_type": "execute_result"
    }
   ],
   "source": [
    "df.shape"
   ]
  },
  {
   "cell_type": "code",
   "execution_count": 3,
   "metadata": {},
   "outputs": [
    {
     "name": "stderr",
     "output_type": "stream",
     "text": [
      "Using TensorFlow backend.\n"
     ]
    }
   ],
   "source": [
    "from sklearn import preprocessing\n",
    "import numpy as np\n",
    "from keras.utils import np_utils\n",
    "\n",
    "n = df.shape[0]\n",
    "nb_classes = df[\"class\"].nunique()\n",
    "\n",
    "le = preprocessing.LabelEncoder()\n",
    "classes = df[\"class\"]\n",
    "le.fit(classes)\n",
    "df[\"class\"] = le.transform(classes)\n",
    "\n",
    "X = df.iloc[:, 1:] # everything but the class\n",
    "\n",
    "y = df[\"class\"]\n",
    "y = np_utils.to_categorical(y, nb_classes) #one hot encodings"
   ]
  },
  {
   "cell_type": "markdown",
   "metadata": {},
   "source": [
    "The pixel data is reshaped because the ImageDataGenerator takes a 3D representation of a image - (width, height, channel). Grayscale images have one channel but color images contain RGB data. Then the data is split into training and testing sets."
   ]
  },
  {
   "cell_type": "code",
   "execution_count": 4,
   "metadata": {},
   "outputs": [
    {
     "data": {
      "text/plain": [
       "((135, 100, 100, 1), (34, 100, 100, 1), (135, 3), (34, 3))"
      ]
     },
     "execution_count": 4,
     "metadata": {},
     "output_type": "execute_result"
    }
   ],
   "source": [
    "from sklearn.model_selection import train_test_split\n",
    "from sklearn.metrics import precision_recall_fscore_support\n",
    "\n",
    "n = X.shape[0]\n",
    "X = np.array(X).reshape(n, 100, 100, 1)\n",
    "\n",
    "X_train, X_test, y_train, y_test = train_test_split(X, y, test_size=0.20)\n",
    "X_train.shape, X_test.shape, y_train.shape, y_test.shape"
   ]
  },
  {
   "cell_type": "markdown",
   "metadata": {},
   "source": [
    "We create an `ImageDataGenerator` object that will supplement our training data and help the model generalize better. The train and test data generators will also normalize the data."
   ]
  },
  {
   "cell_type": "code",
   "execution_count": 5,
   "metadata": {},
   "outputs": [],
   "source": [
    "from keras.preprocessing.image import ImageDataGenerator\n",
    "\n",
    "train_datagen = ImageDataGenerator(\n",
    "#         rotation_range=40,\n",
    "        width_shift_range=0.2,\n",
    "        height_shift_range=0.2,\n",
    "#         rescale=1./255,\n",
    "#         shear_range=0.2,\n",
    "#         zoom_range=0.2,\n",
    "        horizontal_flip=True,\n",
    "        fill_mode='nearest')\n",
    "\n",
    "test_datagen = ImageDataGenerator(rescale=1./255)"
   ]
  },
  {
   "cell_type": "code",
   "execution_count": 6,
   "metadata": {},
   "outputs": [],
   "source": [
    "train_generator = train_datagen.flow(X_train, y_train)\n",
    "test_generator = test_datagen.flow(X_test, y_test)"
   ]
  },
  {
   "cell_type": "markdown",
   "metadata": {},
   "source": [
    "A sample of the images generated by the train generator and the some of the original images are displayed below."
   ]
  },
  {
   "cell_type": "code",
   "execution_count": 7,
   "metadata": {},
   "outputs": [
    {
     "data": {
      "text/plain": [
       "<Figure size 1600x800 with 8 Axes>"
      ]
     },
     "metadata": {},
     "output_type": "display_data"
    }
   ],
   "source": [
    "import matplotlib.pyplot as plt\n",
    "\n",
    "p = train_generator.next()\n",
    "rows = 2\n",
    "cols = 4\n",
    "\n",
    "fig=plt.figure(figsize=(cols*4, rows*4))\n",
    "for i in range(1, 9):\n",
    "    img = np.squeeze(p[0][i-1])\n",
    "    fig.add_subplot(rows, cols, i)\n",
    "    plt.imshow(img, cmap=\"gray\")\n",
    "plt.show()"
   ]
  },
  {
   "cell_type": "code",
   "execution_count": 8,
   "metadata": {},
   "outputs": [
    {
     "data": {
      "image/png": "[encoded data removed]",
      "text/plain": [
       "<Figure size 1152x576 with 8 Axes>"
      ]
     },
     "metadata": {
      "needs_background": "light"
     },
     "output_type": "display_data"
    }
   ],
   "source": [
    "fig=plt.figure(figsize=(16, 8))\n",
    "cols = 4\n",
    "rows = 2\n",
    "\n",
    "for i in range(1, cols*rows+1):\n",
    "    img = np.squeeze(X[i-1])\n",
    "    fig.add_subplot(rows, cols, i)\n",
    "    plt.imshow(img, cmap=\"gray\")\n",
    "plt.show()"
   ]
  },
  {
   "cell_type": "markdown",
   "metadata": {},
   "source": [
    "We then define a function to build a convolutional neural network with 3 convolutions using 3x3 kernels, ReLU activation and max-pooling. Finally, logistic regression is used to predict the output of the model. A dropout layer is added to further generalize the model and prevent it from overfitting."
   ]
  },
  {
   "cell_type": "code",
   "execution_count": 12,
   "metadata": {},
   "outputs": [],
   "source": [
    "from keras.models import Sequential \n",
    "from keras.layers import Dense, Activation, Flatten, Dropout, Conv2D, MaxPooling2D\n",
    "from keras import optimizers\n",
    "\n",
    "input_shape=(100, 100, 1)\n",
    "\n",
    "def create_model(lr=0.001):\n",
    "    model = Sequential()\n",
    "    model.add(Conv2D(32, (3, 3), input_shape=input_shape))\n",
    "    model.add(Activation('relu'))\n",
    "    model.add(MaxPooling2D(pool_size=(2, 2)))\n",
    "\n",
    "    model.add(Conv2D(32, (3, 3)))\n",
    "    model.add(Activation('relu'))\n",
    "    model.add(MaxPooling2D(pool_size=(2, 2)))\n",
    "\n",
    "    model.add(Conv2D(32, (3, 3)))\n",
    "    model.add(Activation('relu'))\n",
    "    model.add(MaxPooling2D(pool_size=(2, 2)))\n",
    "\n",
    "    model.add(Flatten())\n",
    "    model.add(Dense(64, input_shape=input_shape))\n",
    "    model.add(Dropout(0.5))\n",
    "    model.add(Dense(nb_classes, activation='softmax'))\n",
    "    opt = optimizers.Adam(lr=lr)\n",
    "    model.compile(loss=\"categorical_crossentropy\", optimizer='adam', metrics=[\"accuracy\"])\n",
    "    return model"
   ]
  },
  {
   "cell_type": "markdown",
   "metadata": {},
   "source": [
    "We arbitrarily choose the initial batch size and epochs to establish a baseline."
   ]
  },
  {
   "cell_type": "code",
   "execution_count": 10,
   "metadata": {},
   "outputs": [],
   "source": [
    "batch_size=32\n",
    "epochs=20"
   ]
  },
  {
   "cell_type": "markdown",
   "metadata": {},
   "source": [
    "Fit the unaugumented train data first to make sure everything is running correctly, then train the model using generated data."
   ]
  },
  {
   "cell_type": "code",
   "execution_count": 13,
   "metadata": {},
   "outputs": [
    {
     "name": "stdout",
     "output_type": "stream",
     "text": [
      "Epoch 1/20\n",
      "135/135 [==============================] - 2s 11ms/step - loss: 1.0941 - acc: 0.4444\n",
      "Epoch 2/20\n",
      "135/135 [==============================] - 1s 9ms/step - loss: 1.0364 - acc: 0.5111\n",
      "Epoch 3/20\n",
      "135/135 [==============================] - 1s 10ms/step - loss: 1.0014 - acc: 0.5111\n",
      "Epoch 4/20\n",
      "135/135 [==============================] - 1s 9ms/step - loss: 0.9972 - acc: 0.5111\n",
      "Epoch 5/20\n",
      "135/135 [==============================] - 1s 8ms/step - loss: 0.9362 - acc: 0.5111\n",
      "Epoch 6/20\n",
      "135/135 [==============================] - 1s 9ms/step - loss: 0.8794 - acc: 0.5333\n",
      "Epoch 7/20\n",
      "135/135 [==============================] - 2s 13ms/step - loss: 0.7800 - acc: 0.6741\n",
      "Epoch 8/20\n",
      "135/135 [==============================] - 2s 11ms/step - loss: 0.7408 - acc: 0.6815\n",
      "Epoch 9/20\n",
      "135/135 [==============================] - 1s 10ms/step - loss: 0.6322 - acc: 0.7259\n",
      "Epoch 10/20\n",
      "135/135 [==============================] - 1s 11ms/step - loss: 0.5186 - acc: 0.8148\n",
      "Epoch 11/20\n",
      "135/135 [==============================] - 1s 10ms/step - loss: 0.3804 - acc: 0.8741\n",
      "Epoch 12/20\n",
      "135/135 [==============================] - 1s 8ms/step - loss: 0.3863 - acc: 0.8667\n",
      "Epoch 13/20\n",
      "135/135 [==============================] - 1s 9ms/step - loss: 0.2989 - acc: 0.9037\n",
      "Epoch 14/20\n",
      "135/135 [==============================] - 1s 9ms/step - loss: 0.2552 - acc: 0.9111\n",
      "Epoch 15/20\n",
      "135/135 [==============================] - 1s 8ms/step - loss: 0.1826 - acc: 0.9704\n",
      "Epoch 16/20\n",
      "135/135 [==============================] - 1s 9ms/step - loss: 0.1109 - acc: 0.9704\n",
      "Epoch 17/20\n",
      "135/135 [==============================] - 1s 9ms/step - loss: 0.1602 - acc: 0.9407\n",
      "Epoch 18/20\n",
      "135/135 [==============================] - 1s 9ms/step - loss: 0.1043 - acc: 0.9704\n",
      "Epoch 19/20\n",
      "135/135 [==============================] - 1s 9ms/step - loss: 0.0953 - acc: 0.9630\n",
      "Epoch 20/20\n",
      "135/135 [==============================] - 1s 8ms/step - loss: 0.0792 - acc: 0.9852\n"
     ]
    }
   ],
   "source": [
    "model = create_model()\n",
    "history = model.fit(X_train/255, y_train, batch_size=batch_size, epochs=epochs)"
   ]
  },
  {
   "cell_type": "code",
   "execution_count": 14,
   "metadata": {},
   "outputs": [
    {
     "data": {
      "image/png": "[encoded data removed]",
      "text/plain": [
       "<Figure size 432x288 with 1 Axes>"
      ]
     },
     "metadata": {
      "needs_background": "light"
     },
     "output_type": "display_data"
    }
   ],
   "source": [
    "import matplotlib.pyplot as plt\n",
    "\n",
    "plt.ylim(0, 1)\n",
    "plt.plot(history.history[\"acc\"], label=\"accuracy\")\n",
    "plt.legend(loc=\"upper left\")\n",
    "plt.xlabel(\"epoch\")\n",
    "plt.ylabel(\"accuracy\")\n",
    "plt.xticks(np.arange(0, 20+1, 10));"
   ]
  },
  {
   "cell_type": "code",
   "execution_count": 15,
   "metadata": {},
   "outputs": [
    {
     "name": "stdout",
     "output_type": "stream",
     "text": [
      "Train on 135 samples, validate on 34 samples\n",
      "Epoch 1/20\n",
      "135/135 [==============================] - 2s 12ms/step - loss: 1.0861 - acc: 0.4889 - val_loss: 1.0591 - val_acc: 0.4412\n",
      "Epoch 2/20\n",
      "135/135 [==============================] - 1s 10ms/step - loss: 1.0189 - acc: 0.5111 - val_loss: 1.1186 - val_acc: 0.4412\n",
      "Epoch 3/20\n",
      "135/135 [==============================] - 1s 9ms/step - loss: 1.0061 - acc: 0.5111 - val_loss: 1.0750 - val_acc: 0.4412\n",
      "Epoch 4/20\n",
      "135/135 [==============================] - 1s 9ms/step - loss: 0.9898 - acc: 0.5111 - val_loss: 1.0264 - val_acc: 0.4412\n",
      "Epoch 5/20\n",
      "135/135 [==============================] - 1s 9ms/step - loss: 0.9235 - acc: 0.5259 - val_loss: 1.1090 - val_acc: 0.4412\n",
      "Epoch 6/20\n",
      "135/135 [==============================] - 1s 10ms/step - loss: 0.9309 - acc: 0.5407 - val_loss: 0.9542 - val_acc: 0.4412\n",
      "Epoch 7/20\n",
      "135/135 [==============================] - 1s 9ms/step - loss: 0.8160 - acc: 0.6370 - val_loss: 0.9158 - val_acc: 0.5294\n",
      "Epoch 8/20\n",
      "135/135 [==============================] - 1s 9ms/step - loss: 0.7423 - acc: 0.6889 - val_loss: 0.7895 - val_acc: 0.7059\n",
      "Epoch 9/20\n",
      "135/135 [==============================] - 1s 9ms/step - loss: 0.6767 - acc: 0.7481 - val_loss: 0.6983 - val_acc: 0.7353\n",
      "Epoch 10/20\n",
      "135/135 [==============================] - 1s 10ms/step - loss: 0.5363 - acc: 0.8148 - val_loss: 0.5816 - val_acc: 0.7353\n",
      "Epoch 11/20\n",
      "135/135 [==============================] - 1s 9ms/step - loss: 0.4980 - acc: 0.8296 - val_loss: 0.5155 - val_acc: 0.8235\n",
      "Epoch 12/20\n",
      "135/135 [==============================] - 1s 9ms/step - loss: 0.3874 - acc: 0.8815 - val_loss: 0.3822 - val_acc: 0.8529\n",
      "Epoch 13/20\n",
      "135/135 [==============================] - 1s 10ms/step - loss: 0.2627 - acc: 0.9185 - val_loss: 0.3182 - val_acc: 0.8824\n",
      "Epoch 14/20\n",
      "135/135 [==============================] - 1s 11ms/step - loss: 0.2407 - acc: 0.9259 - val_loss: 0.2882 - val_acc: 0.9118\n",
      "Epoch 15/20\n",
      "135/135 [==============================] - 1s 11ms/step - loss: 0.1929 - acc: 0.9481 - val_loss: 0.2622 - val_acc: 0.8824\n",
      "Epoch 16/20\n",
      "135/135 [==============================] - 1s 11ms/step - loss: 0.1527 - acc: 0.9481 - val_loss: 0.2204 - val_acc: 0.8824\n",
      "Epoch 17/20\n",
      "135/135 [==============================] - 2s 14ms/step - loss: 0.1070 - acc: 0.9778 - val_loss: 0.2163 - val_acc: 0.9118\n",
      "Epoch 18/20\n",
      "135/135 [==============================] - 2s 14ms/step - loss: 0.1009 - acc: 0.9630 - val_loss: 0.1751 - val_acc: 0.9118\n",
      "Epoch 19/20\n",
      "135/135 [==============================] - 2s 14ms/step - loss: 0.0860 - acc: 0.9852 - val_loss: 0.1316 - val_acc: 0.9118\n",
      "Epoch 20/20\n",
      "135/135 [==============================] - 2s 12ms/step - loss: 0.0592 - acc: 0.9852 - val_loss: 0.1256 - val_acc: 0.9706\n"
     ]
    }
   ],
   "source": [
    "model = create_model()\n",
    "history = model.fit(X_train/255, y_train, batch_size=batch_size, epochs=epochs, validation_data=(X_test/255, y_test))"
   ]
  },
  {
   "cell_type": "code",
   "execution_count": 16,
   "metadata": {},
   "outputs": [
    {
     "data": {
      "image/png": "[encoded data removed]",
      "text/plain": [
       "<Figure size 432x288 with 1 Axes>"
      ]
     },
     "metadata": {
      "needs_background": "light"
     },
     "output_type": "display_data"
    }
   ],
   "source": [
    "import matplotlib.pyplot as plt\n",
    "\n",
    "plt.ylim(0, 1)\n",
    "plt.plot(history.history[\"acc\"], label=\"accuracy\")\n",
    "plt.plot(history.history[\"val_acc\"], label=\"val_accuracy\")\n",
    "plt.legend(loc=\"upper left\")\n",
    "plt.xlabel(\"epoch\")\n",
    "plt.ylabel(\"accuracy\")\n",
    "plt.xticks(np.arange(0, 20+1, 10));"
   ]
  },
  {
   "cell_type": "code",
   "execution_count": 17,
   "metadata": {},
   "outputs": [
    {
     "name": "stdout",
     "output_type": "stream",
     "text": [
      "Epoch 1/20\n",
      "5/5 [==============================] - 3s 507ms/step - loss: 10.3850 - acc: 0.3028 - val_loss: 1.2642 - val_acc: 0.4412\n",
      "Epoch 2/20\n",
      "5/5 [==============================] - 1s 297ms/step - loss: 7.0103 - acc: 0.5633 - val_loss: 1.8952 - val_acc: 0.4412\n",
      "Epoch 3/20\n",
      "5/5 [==============================] - 1s 251ms/step - loss: 7.9611 - acc: 0.5061 - val_loss: 2.4759 - val_acc: 0.4412\n",
      "Epoch 4/20\n",
      "5/5 [==============================] - 1s 252ms/step - loss: 6.9460 - acc: 0.5691 - val_loss: 2.8892 - val_acc: 0.4412\n",
      "Epoch 5/20\n",
      "5/5 [==============================] - 1s 281ms/step - loss: 7.6495 - acc: 0.5254 - val_loss: 3.1673 - val_acc: 0.4412\n",
      "Epoch 6/20\n",
      "5/5 [==============================] - 1s 266ms/step - loss: 8.3647 - acc: 0.4810 - val_loss: 3.3513 - val_acc: 0.4412\n",
      "Epoch 7/20\n",
      "5/5 [==============================] - 1s 247ms/step - loss: 7.8455 - acc: 0.5132 - val_loss: 3.4712 - val_acc: 0.4412\n",
      "Epoch 8/20\n",
      "5/5 [==============================] - 1s 252ms/step - loss: 7.9493 - acc: 0.5068 - val_loss: 3.5477 - val_acc: 0.4412\n",
      "Epoch 9/20\n",
      "5/5 [==============================] - 1s 273ms/step - loss: 8.4568 - acc: 0.4753 - val_loss: 3.5960 - val_acc: 0.4412\n",
      "Epoch 10/20\n",
      "5/5 [==============================] - 1s 244ms/step - loss: 8.0532 - acc: 0.5004 - val_loss: 3.6262 - val_acc: 0.4412\n",
      "Epoch 11/20\n",
      "5/5 [==============================] - 1s 247ms/step - loss: 8.1688 - acc: 0.4932 - val_loss: 3.6450 - val_acc: 0.4412\n",
      "Epoch 12/20\n",
      "5/5 [==============================] - 1s 257ms/step - loss: 7.0382 - acc: 0.5633 - val_loss: 3.6567 - val_acc: 0.4412\n",
      "Epoch 13/20\n",
      "5/5 [==============================] - 1s 279ms/step - loss: 7.4536 - acc: 0.5376 - val_loss: 3.6639 - val_acc: 0.4412\n",
      "Epoch 14/20\n",
      "5/5 [==============================] - 1s 244ms/step - loss: 8.3530 - acc: 0.4818 - val_loss: 3.6683 - val_acc: 0.4412\n",
      "Epoch 15/20\n",
      "5/5 [==============================] - 1s 241ms/step - loss: 7.6495 - acc: 0.5254 - val_loss: 3.6710 - val_acc: 0.4412\n",
      "Epoch 16/20\n",
      "5/5 [==============================] - 1s 271ms/step - loss: 8.5724 - acc: 0.4681 - val_loss: 3.6726 - val_acc: 0.4412\n",
      "Epoch 17/20\n",
      "5/5 [==============================] - 1s 272ms/step - loss: 7.3380 - acc: 0.5447 - val_loss: 3.6737 - val_acc: 0.4412\n",
      "Epoch 18/20\n",
      "5/5 [==============================] - 1s 255ms/step - loss: 8.5490 - acc: 0.4696 - val_loss: 3.6743 - val_acc: 0.4412\n",
      "Epoch 19/20\n",
      "5/5 [==============================] - 1s 266ms/step - loss: 9.1838 - acc: 0.4302 - val_loss: 3.6746 - val_acc: 0.4412\n",
      "Epoch 20/20\n",
      "5/5 [==============================] - 2s 322ms/step - loss: 7.0264 - acc: 0.5641 - val_loss: 3.6749 - val_acc: 0.4412\n"
     ]
    }
   ],
   "source": [
    "model = create_model()\n",
    "history = model.fit_generator(train_generator,\n",
    "        steps_per_epoch=5, #2000 // batch_size,\n",
    "        epochs=epochs,\n",
    "        validation_data=test_generator,\n",
    "        validation_steps=2) #800 // batch_size)\n",
    "model.save_weights('cnn3.h5')"
   ]
  },
  {
   "cell_type": "markdown",
   "metadata": {},
   "source": [
    "Print test and validation accuracies:"
   ]
  },
  {
   "cell_type": "code",
   "execution_count": 18,
   "metadata": {
    "scrolled": true
   },
   "outputs": [
    {
     "data": {
      "image/png": "[encoded data removed]",
      "text/plain": [
       "<Figure size 432x288 with 1 Axes>"
      ]
     },
     "metadata": {
      "needs_background": "light"
     },
     "output_type": "display_data"
    }
   ],
   "source": [
    "import matplotlib.pyplot as plt\n",
    "\n",
    "plt.ylim(0, 1)\n",
    "plt.plot(history.history[\"acc\"], label=\"accuracy\")\n",
    "plt.plot(history.history[\"val_acc\"], label=\"val_accuracy\")\n",
    "plt.legend(loc=\"upper left\")\n",
    "plt.xlabel(\"epoch\")\n",
    "plt.ylabel(\"accuracy\")\n",
    "plt.xticks(np.arange(0, 20+1, 10));"
   ]
  },
  {
   "cell_type": "markdown",
   "metadata": {},
   "source": [
    "# Tuning"
   ]
  },
  {
   "cell_type": "code",
   "execution_count": 19,
   "metadata": {},
   "outputs": [
    {
     "name": "stdout",
     "output_type": "stream",
     "text": [
      "Epoch 1/10\n",
      "90/90 [==============================] - 2s 24ms/step - loss: 9.3412 - acc: 0.3000\n",
      "Epoch 2/10\n",
      "90/90 [==============================] - 1s 11ms/step - loss: 9.7070 - acc: 0.3444\n",
      "Epoch 3/10\n",
      "90/90 [==============================] - 1s 10ms/step - loss: 9.0639 - acc: 0.4222\n",
      "Epoch 4/10\n",
      "90/90 [==============================] - 1s 12ms/step - loss: 8.9545 - acc: 0.4444\n",
      "Epoch 5/10\n",
      "90/90 [==============================] - 1s 10ms/step - loss: 8.9545 - acc: 0.4444\n",
      "Epoch 6/10\n",
      "90/90 [==============================] - 1s 8ms/step - loss: 8.9545 - acc: 0.4444\n",
      "Epoch 7/10\n",
      "90/90 [==============================] - 1s 14ms/step - loss: 8.9545 - acc: 0.4444\n",
      "Epoch 8/10\n",
      "90/90 [==============================] - 1s 12ms/step - loss: 8.9545 - acc: 0.4444\n",
      "Epoch 9/10\n",
      "90/90 [==============================] - 1s 13ms/step - loss: 8.9545 - acc: 0.4444\n",
      "Epoch 10/10\n",
      "90/90 [==============================] - 1s 12ms/step - loss: 8.9545 - acc: 0.4444\n",
      "Epoch 1/10\n",
      "90/90 [==============================] - 2s 26ms/step - loss: 9.5469 - acc: 0.3444\n",
      "Epoch 2/10\n",
      "90/90 [==============================] - 1s 11ms/step - loss: 8.4172 - acc: 0.4778\n",
      "Epoch 3/10\n",
      "90/90 [==============================] - 1s 15ms/step - loss: 8.4172 - acc: 0.4778\n",
      "Epoch 4/10\n",
      "90/90 [==============================] - 1s 15ms/step - loss: 8.4172 - acc: 0.4778\n",
      "Epoch 5/10\n",
      "90/90 [==============================] - 1s 15ms/step - loss: 8.4172 - acc: 0.4778\n",
      "Epoch 6/10\n",
      "90/90 [==============================] - 1s 14ms/step - loss: 8.4172 - acc: 0.4778\n",
      "Epoch 7/10\n",
      "90/90 [==============================] - 1s 14ms/step - loss: 8.4172 - acc: 0.4778\n",
      "Epoch 8/10\n",
      "90/90 [==============================] - 1s 14ms/step - loss: 8.4172 - acc: 0.4778\n",
      "Epoch 9/10\n",
      "90/90 [==============================] - 1s 13ms/step - loss: 8.4172 - acc: 0.4778\n",
      "Epoch 10/10\n",
      "90/90 [==============================] - 1s 11ms/step - loss: 8.4172 - acc: 0.4778\n",
      "Epoch 1/10\n",
      "90/90 [==============================] - 2s 26ms/step - loss: 7.8730 - acc: 0.4556\n",
      "Epoch 2/10\n",
      "90/90 [==============================] - 1s 10ms/step - loss: 7.7014 - acc: 0.5222\n",
      "Epoch 3/10\n",
      "90/90 [==============================] - 1s 12ms/step - loss: 7.9626 - acc: 0.5000\n",
      "Epoch 4/10\n",
      "90/90 [==============================] - 1s 9ms/step - loss: 7.5218 - acc: 0.5333\n",
      "Epoch 5/10\n",
      "90/90 [==============================] - 1s 13ms/step - loss: 7.1636 - acc: 0.5556\n",
      "Epoch 6/10\n",
      "90/90 [==============================] - 1s 10ms/step - loss: 7.1636 - acc: 0.5556\n",
      "Epoch 7/10\n",
      "90/90 [==============================] - 1s 11ms/step - loss: 7.5218 - acc: 0.5333\n",
      "Epoch 8/10\n",
      "90/90 [==============================] - 1s 11ms/step - loss: 7.3427 - acc: 0.5444\n",
      "Epoch 9/10\n",
      "90/90 [==============================] - 1s 11ms/step - loss: 7.1636 - acc: 0.5556\n",
      "Epoch 10/10\n",
      "32/90 [=========>....................] - ETA: 0s - loss: 6.5480 - acc: 0.5938"
     ]
    },
    {
     "ename": "KeyboardInterrupt",
     "evalue": "",
     "output_type": "error",
     "traceback": [
      "\u001b[1;31m---------------------------------------------------------------------------\u001b[0m",
      "\u001b[1;31mKeyboardInterrupt\u001b[0m                         Traceback (most recent call last)",
      "\u001b[1;32m<ipython-input-19-2ee4d4604fff>\u001b[0m in \u001b[0;36m<module>\u001b[1;34m\u001b[0m\n\u001b[0;32m     11\u001b[0m \u001b[0mmodel\u001b[0m \u001b[1;33m=\u001b[0m \u001b[0mKerasClassifier\u001b[0m\u001b[1;33m(\u001b[0m\u001b[0mbuild_fn\u001b[0m\u001b[1;33m=\u001b[0m\u001b[0mcreate_model\u001b[0m\u001b[1;33m)\u001b[0m\u001b[1;33m\u001b[0m\u001b[0m\n\u001b[0;32m     12\u001b[0m \u001b[0mgrid_acc\u001b[0m \u001b[1;33m=\u001b[0m \u001b[0mGridSearchCV\u001b[0m\u001b[1;33m(\u001b[0m\u001b[0mmodel\u001b[0m\u001b[1;33m,\u001b[0m \u001b[0mparam_grid\u001b[0m \u001b[1;33m=\u001b[0m \u001b[0mgrid_values\u001b[0m\u001b[1;33m,\u001b[0m\u001b[0mscoring\u001b[0m \u001b[1;33m=\u001b[0m \u001b[1;34m'accuracy'\u001b[0m\u001b[1;33m,\u001b[0m \u001b[0mcv\u001b[0m\u001b[1;33m=\u001b[0m\u001b[1;36m3\u001b[0m\u001b[1;33m)\u001b[0m\u001b[1;33m\u001b[0m\u001b[0m\n\u001b[1;32m---> 13\u001b[1;33m \u001b[0mgrid_result\u001b[0m \u001b[1;33m=\u001b[0m \u001b[0mgrid_acc\u001b[0m\u001b[1;33m.\u001b[0m\u001b[0mfit\u001b[0m\u001b[1;33m(\u001b[0m\u001b[0mX_train\u001b[0m\u001b[1;33m,\u001b[0m \u001b[0my_train\u001b[0m\u001b[1;33m)\u001b[0m\u001b[1;33m\u001b[0m\u001b[0m\n\u001b[0m",
      "\u001b[1;32mc:\\users\\boying\\appdata\\local\\programs\\python\\python36\\lib\\site-packages\\sklearn\\model_selection\\_search.py\u001b[0m in \u001b[0;36mfit\u001b[1;34m(self, X, y, groups, **fit_params)\u001b[0m\n\u001b[0;32m    720\u001b[0m                 \u001b[1;32mreturn\u001b[0m \u001b[0mresults_container\u001b[0m\u001b[1;33m[\u001b[0m\u001b[1;36m0\u001b[0m\u001b[1;33m]\u001b[0m\u001b[1;33m\u001b[0m\u001b[0m\n\u001b[0;32m    721\u001b[0m \u001b[1;33m\u001b[0m\u001b[0m\n\u001b[1;32m--> 722\u001b[1;33m             \u001b[0mself\u001b[0m\u001b[1;33m.\u001b[0m\u001b[0m_run_search\u001b[0m\u001b[1;33m(\u001b[0m\u001b[0mevaluate_candidates\u001b[0m\u001b[1;33m)\u001b[0m\u001b[1;33m\u001b[0m\u001b[0m\n\u001b[0m\u001b[0;32m    723\u001b[0m \u001b[1;33m\u001b[0m\u001b[0m\n\u001b[0;32m    724\u001b[0m         \u001b[0mresults\u001b[0m \u001b[1;33m=\u001b[0m \u001b[0mresults_container\u001b[0m\u001b[1;33m[\u001b[0m\u001b[1;36m0\u001b[0m\u001b[1;33m]\u001b[0m\u001b[1;33m\u001b[0m\u001b[0m\n",
      "\u001b[1;32mc:\\users\\boying\\appdata\\local\\programs\\python\\python36\\lib\\site-packages\\sklearn\\model_selection\\_search.py\u001b[0m in \u001b[0;36m_run_search\u001b[1;34m(self, evaluate_candidates)\u001b[0m\n\u001b[0;32m   1189\u001b[0m     \u001b[1;32mdef\u001b[0m \u001b[0m_run_search\u001b[0m\u001b[1;33m(\u001b[0m\u001b[0mself\u001b[0m\u001b[1;33m,\u001b[0m \u001b[0mevaluate_candidates\u001b[0m\u001b[1;33m)\u001b[0m\u001b[1;33m:\u001b[0m\u001b[1;33m\u001b[0m\u001b[0m\n\u001b[0;32m   1190\u001b[0m         \u001b[1;34m\"\"\"Search all candidates in param_grid\"\"\"\u001b[0m\u001b[1;33m\u001b[0m\u001b[0m\n\u001b[1;32m-> 1191\u001b[1;33m         \u001b[0mevaluate_candidates\u001b[0m\u001b[1;33m(\u001b[0m\u001b[0mParameterGrid\u001b[0m\u001b[1;33m(\u001b[0m\u001b[0mself\u001b[0m\u001b[1;33m.\u001b[0m\u001b[0mparam_grid\u001b[0m\u001b[1;33m)\u001b[0m\u001b[1;33m)\u001b[0m\u001b[1;33m\u001b[0m\u001b[0m\n\u001b[0m\u001b[0;32m   1192\u001b[0m \u001b[1;33m\u001b[0m\u001b[0m\n\u001b[0;32m   1193\u001b[0m \u001b[1;33m\u001b[0m\u001b[0m\n",
      "\u001b[1;32mc:\\users\\boying\\appdata\\local\\programs\\python\\python36\\lib\\site-packages\\sklearn\\model_selection\\_search.py\u001b[0m in \u001b[0;36mevaluate_candidates\u001b[1;34m(candidate_params)\u001b[0m\n\u001b[0;32m    709\u001b[0m                                \u001b[1;32mfor\u001b[0m \u001b[0mparameters\u001b[0m\u001b[1;33m,\u001b[0m \u001b[1;33m(\u001b[0m\u001b[0mtrain\u001b[0m\u001b[1;33m,\u001b[0m \u001b[0mtest\u001b[0m\u001b[1;33m)\u001b[0m\u001b[1;33m\u001b[0m\u001b[0m\n\u001b[0;32m    710\u001b[0m                                in product(candidate_params,\n\u001b[1;32m--> 711\u001b[1;33m                                           cv.split(X, y, groups)))\n\u001b[0m\u001b[0;32m    712\u001b[0m \u001b[1;33m\u001b[0m\u001b[0m\n\u001b[0;32m    713\u001b[0m                 \u001b[0mall_candidate_params\u001b[0m\u001b[1;33m.\u001b[0m\u001b[0mextend\u001b[0m\u001b[1;33m(\u001b[0m\u001b[0mcandidate_params\u001b[0m\u001b[1;33m)\u001b[0m\u001b[1;33m\u001b[0m\u001b[0m\n",
      "\u001b[1;32mc:\\users\\boying\\appdata\\local\\programs\\python\\python36\\lib\\site-packages\\sklearn\\externals\\joblib\\parallel.py\u001b[0m in \u001b[0;36m__call__\u001b[1;34m(self, iterable)\u001b[0m\n\u001b[0;32m    918\u001b[0m                 \u001b[0mself\u001b[0m\u001b[1;33m.\u001b[0m\u001b[0m_iterating\u001b[0m \u001b[1;33m=\u001b[0m \u001b[0mself\u001b[0m\u001b[1;33m.\u001b[0m\u001b[0m_original_iterator\u001b[0m \u001b[1;32mis\u001b[0m \u001b[1;32mnot\u001b[0m \u001b[1;32mNone\u001b[0m\u001b[1;33m\u001b[0m\u001b[0m\n\u001b[0;32m    919\u001b[0m \u001b[1;33m\u001b[0m\u001b[0m\n\u001b[1;32m--> 920\u001b[1;33m             \u001b[1;32mwhile\u001b[0m \u001b[0mself\u001b[0m\u001b[1;33m.\u001b[0m\u001b[0mdispatch_one_batch\u001b[0m\u001b[1;33m(\u001b[0m\u001b[0miterator\u001b[0m\u001b[1;33m)\u001b[0m\u001b[1;33m:\u001b[0m\u001b[1;33m\u001b[0m\u001b[0m\n\u001b[0m\u001b[0;32m    921\u001b[0m                 \u001b[1;32mpass\u001b[0m\u001b[1;33m\u001b[0m\u001b[0m\n\u001b[0;32m    922\u001b[0m \u001b[1;33m\u001b[0m\u001b[0m\n",
      "\u001b[1;32mc:\\users\\boying\\appdata\\local\\programs\\python\\python36\\lib\\site-packages\\sklearn\\externals\\joblib\\parallel.py\u001b[0m in \u001b[0;36mdispatch_one_batch\u001b[1;34m(self, iterator)\u001b[0m\n\u001b[0;32m    757\u001b[0m                 \u001b[1;32mreturn\u001b[0m \u001b[1;32mFalse\u001b[0m\u001b[1;33m\u001b[0m\u001b[0m\n\u001b[0;32m    758\u001b[0m             \u001b[1;32melse\u001b[0m\u001b[1;33m:\u001b[0m\u001b[1;33m\u001b[0m\u001b[0m\n\u001b[1;32m--> 759\u001b[1;33m                 \u001b[0mself\u001b[0m\u001b[1;33m.\u001b[0m\u001b[0m_dispatch\u001b[0m\u001b[1;33m(\u001b[0m\u001b[0mtasks\u001b[0m\u001b[1;33m)\u001b[0m\u001b[1;33m\u001b[0m\u001b[0m\n\u001b[0m\u001b[0;32m    760\u001b[0m                 \u001b[1;32mreturn\u001b[0m \u001b[1;32mTrue\u001b[0m\u001b[1;33m\u001b[0m\u001b[0m\n\u001b[0;32m    761\u001b[0m \u001b[1;33m\u001b[0m\u001b[0m\n",
      "\u001b[1;32mc:\\users\\boying\\appdata\\local\\programs\\python\\python36\\lib\\site-packages\\sklearn\\externals\\joblib\\parallel.py\u001b[0m in \u001b[0;36m_dispatch\u001b[1;34m(self, batch)\u001b[0m\n\u001b[0;32m    714\u001b[0m         \u001b[1;32mwith\u001b[0m \u001b[0mself\u001b[0m\u001b[1;33m.\u001b[0m\u001b[0m_lock\u001b[0m\u001b[1;33m:\u001b[0m\u001b[1;33m\u001b[0m\u001b[0m\n\u001b[0;32m    715\u001b[0m             \u001b[0mjob_idx\u001b[0m \u001b[1;33m=\u001b[0m \u001b[0mlen\u001b[0m\u001b[1;33m(\u001b[0m\u001b[0mself\u001b[0m\u001b[1;33m.\u001b[0m\u001b[0m_jobs\u001b[0m\u001b[1;33m)\u001b[0m\u001b[1;33m\u001b[0m\u001b[0m\n\u001b[1;32m--> 716\u001b[1;33m             \u001b[0mjob\u001b[0m \u001b[1;33m=\u001b[0m \u001b[0mself\u001b[0m\u001b[1;33m.\u001b[0m\u001b[0m_backend\u001b[0m\u001b[1;33m.\u001b[0m\u001b[0mapply_async\u001b[0m\u001b[1;33m(\u001b[0m\u001b[0mbatch\u001b[0m\u001b[1;33m,\u001b[0m \u001b[0mcallback\u001b[0m\u001b[1;33m=\u001b[0m\u001b[0mcb\u001b[0m\u001b[1;33m)\u001b[0m\u001b[1;33m\u001b[0m\u001b[0m\n\u001b[0m\u001b[0;32m    717\u001b[0m             \u001b[1;31m# A job can complete so quickly than its callback is\u001b[0m\u001b[1;33m\u001b[0m\u001b[1;33m\u001b[0m\u001b[0m\n\u001b[0;32m    718\u001b[0m             \u001b[1;31m# called before we get here, causing self._jobs to\u001b[0m\u001b[1;33m\u001b[0m\u001b[1;33m\u001b[0m\u001b[0m\n",
      "\u001b[1;32mc:\\users\\boying\\appdata\\local\\programs\\python\\python36\\lib\\site-packages\\sklearn\\externals\\joblib\\_parallel_backends.py\u001b[0m in \u001b[0;36mapply_async\u001b[1;34m(self, func, callback)\u001b[0m\n\u001b[0;32m    180\u001b[0m     \u001b[1;32mdef\u001b[0m \u001b[0mapply_async\u001b[0m\u001b[1;33m(\u001b[0m\u001b[0mself\u001b[0m\u001b[1;33m,\u001b[0m \u001b[0mfunc\u001b[0m\u001b[1;33m,\u001b[0m \u001b[0mcallback\u001b[0m\u001b[1;33m=\u001b[0m\u001b[1;32mNone\u001b[0m\u001b[1;33m)\u001b[0m\u001b[1;33m:\u001b[0m\u001b[1;33m\u001b[0m\u001b[0m\n\u001b[0;32m    181\u001b[0m         \u001b[1;34m\"\"\"Schedule a func to be run\"\"\"\u001b[0m\u001b[1;33m\u001b[0m\u001b[0m\n\u001b[1;32m--> 182\u001b[1;33m         \u001b[0mresult\u001b[0m \u001b[1;33m=\u001b[0m \u001b[0mImmediateResult\u001b[0m\u001b[1;33m(\u001b[0m\u001b[0mfunc\u001b[0m\u001b[1;33m)\u001b[0m\u001b[1;33m\u001b[0m\u001b[0m\n\u001b[0m\u001b[0;32m    183\u001b[0m         \u001b[1;32mif\u001b[0m \u001b[0mcallback\u001b[0m\u001b[1;33m:\u001b[0m\u001b[1;33m\u001b[0m\u001b[0m\n\u001b[0;32m    184\u001b[0m             \u001b[0mcallback\u001b[0m\u001b[1;33m(\u001b[0m\u001b[0mresult\u001b[0m\u001b[1;33m)\u001b[0m\u001b[1;33m\u001b[0m\u001b[0m\n",
      "\u001b[1;32mc:\\users\\boying\\appdata\\local\\programs\\python\\python36\\lib\\site-packages\\sklearn\\externals\\joblib\\_parallel_backends.py\u001b[0m in \u001b[0;36m__init__\u001b[1;34m(self, batch)\u001b[0m\n\u001b[0;32m    547\u001b[0m         \u001b[1;31m# Don't delay the application, to avoid keeping the input\u001b[0m\u001b[1;33m\u001b[0m\u001b[1;33m\u001b[0m\u001b[0m\n\u001b[0;32m    548\u001b[0m         \u001b[1;31m# arguments in memory\u001b[0m\u001b[1;33m\u001b[0m\u001b[1;33m\u001b[0m\u001b[0m\n\u001b[1;32m--> 549\u001b[1;33m         \u001b[0mself\u001b[0m\u001b[1;33m.\u001b[0m\u001b[0mresults\u001b[0m \u001b[1;33m=\u001b[0m \u001b[0mbatch\u001b[0m\u001b[1;33m(\u001b[0m\u001b[1;33m)\u001b[0m\u001b[1;33m\u001b[0m\u001b[0m\n\u001b[0m\u001b[0;32m    550\u001b[0m \u001b[1;33m\u001b[0m\u001b[0m\n\u001b[0;32m    551\u001b[0m     \u001b[1;32mdef\u001b[0m \u001b[0mget\u001b[0m\u001b[1;33m(\u001b[0m\u001b[0mself\u001b[0m\u001b[1;33m)\u001b[0m\u001b[1;33m:\u001b[0m\u001b[1;33m\u001b[0m\u001b[0m\n",
      "\u001b[1;32mc:\\users\\boying\\appdata\\local\\programs\\python\\python36\\lib\\site-packages\\sklearn\\externals\\joblib\\parallel.py\u001b[0m in \u001b[0;36m__call__\u001b[1;34m(self)\u001b[0m\n\u001b[0;32m    223\u001b[0m         \u001b[1;32mwith\u001b[0m \u001b[0mparallel_backend\u001b[0m\u001b[1;33m(\u001b[0m\u001b[0mself\u001b[0m\u001b[1;33m.\u001b[0m\u001b[0m_backend\u001b[0m\u001b[1;33m,\u001b[0m \u001b[0mn_jobs\u001b[0m\u001b[1;33m=\u001b[0m\u001b[0mself\u001b[0m\u001b[1;33m.\u001b[0m\u001b[0m_n_jobs\u001b[0m\u001b[1;33m)\u001b[0m\u001b[1;33m:\u001b[0m\u001b[1;33m\u001b[0m\u001b[0m\n\u001b[0;32m    224\u001b[0m             return [func(*args, **kwargs)\n\u001b[1;32m--> 225\u001b[1;33m                     for func, args, kwargs in self.items]\n\u001b[0m\u001b[0;32m    226\u001b[0m \u001b[1;33m\u001b[0m\u001b[0m\n\u001b[0;32m    227\u001b[0m     \u001b[1;32mdef\u001b[0m \u001b[0m__len__\u001b[0m\u001b[1;33m(\u001b[0m\u001b[0mself\u001b[0m\u001b[1;33m)\u001b[0m\u001b[1;33m:\u001b[0m\u001b[1;33m\u001b[0m\u001b[0m\n",
      "\u001b[1;32mc:\\users\\boying\\appdata\\local\\programs\\python\\python36\\lib\\site-packages\\sklearn\\externals\\joblib\\parallel.py\u001b[0m in \u001b[0;36m<listcomp>\u001b[1;34m(.0)\u001b[0m\n\u001b[0;32m    223\u001b[0m         \u001b[1;32mwith\u001b[0m \u001b[0mparallel_backend\u001b[0m\u001b[1;33m(\u001b[0m\u001b[0mself\u001b[0m\u001b[1;33m.\u001b[0m\u001b[0m_backend\u001b[0m\u001b[1;33m,\u001b[0m \u001b[0mn_jobs\u001b[0m\u001b[1;33m=\u001b[0m\u001b[0mself\u001b[0m\u001b[1;33m.\u001b[0m\u001b[0m_n_jobs\u001b[0m\u001b[1;33m)\u001b[0m\u001b[1;33m:\u001b[0m\u001b[1;33m\u001b[0m\u001b[0m\n\u001b[0;32m    224\u001b[0m             return [func(*args, **kwargs)\n\u001b[1;32m--> 225\u001b[1;33m                     for func, args, kwargs in self.items]\n\u001b[0m\u001b[0;32m    226\u001b[0m \u001b[1;33m\u001b[0m\u001b[0m\n\u001b[0;32m    227\u001b[0m     \u001b[1;32mdef\u001b[0m \u001b[0m__len__\u001b[0m\u001b[1;33m(\u001b[0m\u001b[0mself\u001b[0m\u001b[1;33m)\u001b[0m\u001b[1;33m:\u001b[0m\u001b[1;33m\u001b[0m\u001b[0m\n",
      "\u001b[1;32mc:\\users\\boying\\appdata\\local\\programs\\python\\python36\\lib\\site-packages\\sklearn\\model_selection\\_validation.py\u001b[0m in \u001b[0;36m_fit_and_score\u001b[1;34m(estimator, X, y, scorer, train, test, verbose, parameters, fit_params, return_train_score, return_parameters, return_n_test_samples, return_times, return_estimator, error_score)\u001b[0m\n\u001b[0;32m    526\u001b[0m             \u001b[0mestimator\u001b[0m\u001b[1;33m.\u001b[0m\u001b[0mfit\u001b[0m\u001b[1;33m(\u001b[0m\u001b[0mX_train\u001b[0m\u001b[1;33m,\u001b[0m \u001b[1;33m**\u001b[0m\u001b[0mfit_params\u001b[0m\u001b[1;33m)\u001b[0m\u001b[1;33m\u001b[0m\u001b[0m\n\u001b[0;32m    527\u001b[0m         \u001b[1;32melse\u001b[0m\u001b[1;33m:\u001b[0m\u001b[1;33m\u001b[0m\u001b[0m\n\u001b[1;32m--> 528\u001b[1;33m             \u001b[0mestimator\u001b[0m\u001b[1;33m.\u001b[0m\u001b[0mfit\u001b[0m\u001b[1;33m(\u001b[0m\u001b[0mX_train\u001b[0m\u001b[1;33m,\u001b[0m \u001b[0my_train\u001b[0m\u001b[1;33m,\u001b[0m \u001b[1;33m**\u001b[0m\u001b[0mfit_params\u001b[0m\u001b[1;33m)\u001b[0m\u001b[1;33m\u001b[0m\u001b[0m\n\u001b[0m\u001b[0;32m    529\u001b[0m \u001b[1;33m\u001b[0m\u001b[0m\n\u001b[0;32m    530\u001b[0m     \u001b[1;32mexcept\u001b[0m \u001b[0mException\u001b[0m \u001b[1;32mas\u001b[0m \u001b[0me\u001b[0m\u001b[1;33m:\u001b[0m\u001b[1;33m\u001b[0m\u001b[0m\n",
      "\u001b[1;32mc:\\users\\boying\\appdata\\local\\programs\\python\\python36\\lib\\site-packages\\keras\\wrappers\\scikit_learn.py\u001b[0m in \u001b[0;36mfit\u001b[1;34m(self, x, y, sample_weight, **kwargs)\u001b[0m\n\u001b[0;32m    208\u001b[0m         \u001b[1;32mif\u001b[0m \u001b[0msample_weight\u001b[0m \u001b[1;32mis\u001b[0m \u001b[1;32mnot\u001b[0m \u001b[1;32mNone\u001b[0m\u001b[1;33m:\u001b[0m\u001b[1;33m\u001b[0m\u001b[0m\n\u001b[0;32m    209\u001b[0m             \u001b[0mkwargs\u001b[0m\u001b[1;33m[\u001b[0m\u001b[1;34m'sample_weight'\u001b[0m\u001b[1;33m]\u001b[0m \u001b[1;33m=\u001b[0m \u001b[0msample_weight\u001b[0m\u001b[1;33m\u001b[0m\u001b[0m\n\u001b[1;32m--> 210\u001b[1;33m         \u001b[1;32mreturn\u001b[0m \u001b[0msuper\u001b[0m\u001b[1;33m(\u001b[0m\u001b[0mKerasClassifier\u001b[0m\u001b[1;33m,\u001b[0m \u001b[0mself\u001b[0m\u001b[1;33m)\u001b[0m\u001b[1;33m.\u001b[0m\u001b[0mfit\u001b[0m\u001b[1;33m(\u001b[0m\u001b[0mx\u001b[0m\u001b[1;33m,\u001b[0m \u001b[0my\u001b[0m\u001b[1;33m,\u001b[0m \u001b[1;33m**\u001b[0m\u001b[0mkwargs\u001b[0m\u001b[1;33m)\u001b[0m\u001b[1;33m\u001b[0m\u001b[0m\n\u001b[0m\u001b[0;32m    211\u001b[0m \u001b[1;33m\u001b[0m\u001b[0m\n\u001b[0;32m    212\u001b[0m     \u001b[1;32mdef\u001b[0m \u001b[0mpredict\u001b[0m\u001b[1;33m(\u001b[0m\u001b[0mself\u001b[0m\u001b[1;33m,\u001b[0m \u001b[0mx\u001b[0m\u001b[1;33m,\u001b[0m \u001b[1;33m**\u001b[0m\u001b[0mkwargs\u001b[0m\u001b[1;33m)\u001b[0m\u001b[1;33m:\u001b[0m\u001b[1;33m\u001b[0m\u001b[0m\n",
      "\u001b[1;32mc:\\users\\boying\\appdata\\local\\programs\\python\\python36\\lib\\site-packages\\keras\\wrappers\\scikit_learn.py\u001b[0m in \u001b[0;36mfit\u001b[1;34m(self, x, y, **kwargs)\u001b[0m\n\u001b[0;32m    150\u001b[0m         \u001b[0mfit_args\u001b[0m\u001b[1;33m.\u001b[0m\u001b[0mupdate\u001b[0m\u001b[1;33m(\u001b[0m\u001b[0mkwargs\u001b[0m\u001b[1;33m)\u001b[0m\u001b[1;33m\u001b[0m\u001b[0m\n\u001b[0;32m    151\u001b[0m \u001b[1;33m\u001b[0m\u001b[0m\n\u001b[1;32m--> 152\u001b[1;33m         \u001b[0mhistory\u001b[0m \u001b[1;33m=\u001b[0m \u001b[0mself\u001b[0m\u001b[1;33m.\u001b[0m\u001b[0mmodel\u001b[0m\u001b[1;33m.\u001b[0m\u001b[0mfit\u001b[0m\u001b[1;33m(\u001b[0m\u001b[0mx\u001b[0m\u001b[1;33m,\u001b[0m \u001b[0my\u001b[0m\u001b[1;33m,\u001b[0m \u001b[1;33m**\u001b[0m\u001b[0mfit_args\u001b[0m\u001b[1;33m)\u001b[0m\u001b[1;33m\u001b[0m\u001b[0m\n\u001b[0m\u001b[0;32m    153\u001b[0m \u001b[1;33m\u001b[0m\u001b[0m\n\u001b[0;32m    154\u001b[0m         \u001b[1;32mreturn\u001b[0m \u001b[0mhistory\u001b[0m\u001b[1;33m\u001b[0m\u001b[0m\n",
      "\u001b[1;32mc:\\users\\boying\\appdata\\local\\programs\\python\\python36\\lib\\site-packages\\keras\\engine\\training.py\u001b[0m in \u001b[0;36mfit\u001b[1;34m(self, x, y, batch_size, epochs, verbose, callbacks, validation_split, validation_data, shuffle, class_weight, sample_weight, initial_epoch, steps_per_epoch, validation_steps, **kwargs)\u001b[0m\n\u001b[0;32m   1037\u001b[0m                                         \u001b[0minitial_epoch\u001b[0m\u001b[1;33m=\u001b[0m\u001b[0minitial_epoch\u001b[0m\u001b[1;33m,\u001b[0m\u001b[1;33m\u001b[0m\u001b[0m\n\u001b[0;32m   1038\u001b[0m                                         \u001b[0msteps_per_epoch\u001b[0m\u001b[1;33m=\u001b[0m\u001b[0msteps_per_epoch\u001b[0m\u001b[1;33m,\u001b[0m\u001b[1;33m\u001b[0m\u001b[0m\n\u001b[1;32m-> 1039\u001b[1;33m                                         validation_steps=validation_steps)\n\u001b[0m\u001b[0;32m   1040\u001b[0m \u001b[1;33m\u001b[0m\u001b[0m\n\u001b[0;32m   1041\u001b[0m     def evaluate(self, x=None, y=None,\n",
      "\u001b[1;32mc:\\users\\boying\\appdata\\local\\programs\\python\\python36\\lib\\site-packages\\keras\\engine\\training_arrays.py\u001b[0m in \u001b[0;36mfit_loop\u001b[1;34m(model, f, ins, out_labels, batch_size, epochs, verbose, callbacks, val_f, val_ins, shuffle, callback_metrics, initial_epoch, steps_per_epoch, validation_steps)\u001b[0m\n\u001b[0;32m    197\u001b[0m                     \u001b[0mins_batch\u001b[0m\u001b[1;33m[\u001b[0m\u001b[0mi\u001b[0m\u001b[1;33m]\u001b[0m \u001b[1;33m=\u001b[0m \u001b[0mins_batch\u001b[0m\u001b[1;33m[\u001b[0m\u001b[0mi\u001b[0m\u001b[1;33m]\u001b[0m\u001b[1;33m.\u001b[0m\u001b[0mtoarray\u001b[0m\u001b[1;33m(\u001b[0m\u001b[1;33m)\u001b[0m\u001b[1;33m\u001b[0m\u001b[0m\n\u001b[0;32m    198\u001b[0m \u001b[1;33m\u001b[0m\u001b[0m\n\u001b[1;32m--> 199\u001b[1;33m                 \u001b[0mouts\u001b[0m \u001b[1;33m=\u001b[0m \u001b[0mf\u001b[0m\u001b[1;33m(\u001b[0m\u001b[0mins_batch\u001b[0m\u001b[1;33m)\u001b[0m\u001b[1;33m\u001b[0m\u001b[0m\n\u001b[0m\u001b[0;32m    200\u001b[0m                 \u001b[0mouts\u001b[0m \u001b[1;33m=\u001b[0m \u001b[0mto_list\u001b[0m\u001b[1;33m(\u001b[0m\u001b[0mouts\u001b[0m\u001b[1;33m)\u001b[0m\u001b[1;33m\u001b[0m\u001b[0m\n\u001b[0;32m    201\u001b[0m                 \u001b[1;32mfor\u001b[0m \u001b[0ml\u001b[0m\u001b[1;33m,\u001b[0m \u001b[0mo\u001b[0m \u001b[1;32min\u001b[0m \u001b[0mzip\u001b[0m\u001b[1;33m(\u001b[0m\u001b[0mout_labels\u001b[0m\u001b[1;33m,\u001b[0m \u001b[0mouts\u001b[0m\u001b[1;33m)\u001b[0m\u001b[1;33m:\u001b[0m\u001b[1;33m\u001b[0m\u001b[0m\n",
      "\u001b[1;32mc:\\users\\boying\\appdata\\local\\programs\\python\\python36\\lib\\site-packages\\keras\\backend\\tensorflow_backend.py\u001b[0m in \u001b[0;36m__call__\u001b[1;34m(self, inputs)\u001b[0m\n\u001b[0;32m   2713\u001b[0m                 \u001b[1;32mreturn\u001b[0m \u001b[0mself\u001b[0m\u001b[1;33m.\u001b[0m\u001b[0m_legacy_call\u001b[0m\u001b[1;33m(\u001b[0m\u001b[0minputs\u001b[0m\u001b[1;33m)\u001b[0m\u001b[1;33m\u001b[0m\u001b[0m\n\u001b[0;32m   2714\u001b[0m \u001b[1;33m\u001b[0m\u001b[0m\n\u001b[1;32m-> 2715\u001b[1;33m             \u001b[1;32mreturn\u001b[0m \u001b[0mself\u001b[0m\u001b[1;33m.\u001b[0m\u001b[0m_call\u001b[0m\u001b[1;33m(\u001b[0m\u001b[0minputs\u001b[0m\u001b[1;33m)\u001b[0m\u001b[1;33m\u001b[0m\u001b[0m\n\u001b[0m\u001b[0;32m   2716\u001b[0m         \u001b[1;32melse\u001b[0m\u001b[1;33m:\u001b[0m\u001b[1;33m\u001b[0m\u001b[0m\n\u001b[0;32m   2717\u001b[0m             \u001b[1;32mif\u001b[0m \u001b[0mpy_any\u001b[0m\u001b[1;33m(\u001b[0m\u001b[0mis_tensor\u001b[0m\u001b[1;33m(\u001b[0m\u001b[0mx\u001b[0m\u001b[1;33m)\u001b[0m \u001b[1;32mfor\u001b[0m \u001b[0mx\u001b[0m \u001b[1;32min\u001b[0m \u001b[0minputs\u001b[0m\u001b[1;33m)\u001b[0m\u001b[1;33m:\u001b[0m\u001b[1;33m\u001b[0m\u001b[0m\n",
      "\u001b[1;32mc:\\users\\boying\\appdata\\local\\programs\\python\\python36\\lib\\site-packages\\keras\\backend\\tensorflow_backend.py\u001b[0m in \u001b[0;36m_call\u001b[1;34m(self, inputs)\u001b[0m\n\u001b[0;32m   2673\u001b[0m             \u001b[0mfetched\u001b[0m \u001b[1;33m=\u001b[0m \u001b[0mself\u001b[0m\u001b[1;33m.\u001b[0m\u001b[0m_callable_fn\u001b[0m\u001b[1;33m(\u001b[0m\u001b[1;33m*\u001b[0m\u001b[0marray_vals\u001b[0m\u001b[1;33m,\u001b[0m \u001b[0mrun_metadata\u001b[0m\u001b[1;33m=\u001b[0m\u001b[0mself\u001b[0m\u001b[1;33m.\u001b[0m\u001b[0mrun_metadata\u001b[0m\u001b[1;33m)\u001b[0m\u001b[1;33m\u001b[0m\u001b[0m\n\u001b[0;32m   2674\u001b[0m         \u001b[1;32melse\u001b[0m\u001b[1;33m:\u001b[0m\u001b[1;33m\u001b[0m\u001b[0m\n\u001b[1;32m-> 2675\u001b[1;33m             \u001b[0mfetched\u001b[0m \u001b[1;33m=\u001b[0m \u001b[0mself\u001b[0m\u001b[1;33m.\u001b[0m\u001b[0m_callable_fn\u001b[0m\u001b[1;33m(\u001b[0m\u001b[1;33m*\u001b[0m\u001b[0marray_vals\u001b[0m\u001b[1;33m)\u001b[0m\u001b[1;33m\u001b[0m\u001b[0m\n\u001b[0m\u001b[0;32m   2676\u001b[0m         \u001b[1;32mreturn\u001b[0m \u001b[0mfetched\u001b[0m\u001b[1;33m[\u001b[0m\u001b[1;33m:\u001b[0m\u001b[0mlen\u001b[0m\u001b[1;33m(\u001b[0m\u001b[0mself\u001b[0m\u001b[1;33m.\u001b[0m\u001b[0moutputs\u001b[0m\u001b[1;33m)\u001b[0m\u001b[1;33m]\u001b[0m\u001b[1;33m\u001b[0m\u001b[0m\n\u001b[0;32m   2677\u001b[0m \u001b[1;33m\u001b[0m\u001b[0m\n",
      "\u001b[1;32mc:\\users\\boying\\appdata\\local\\programs\\python\\python36\\lib\\site-packages\\tensorflow\\python\\client\\session.py\u001b[0m in \u001b[0;36m__call__\u001b[1;34m(self, *args, **kwargs)\u001b[0m\n\u001b[0;32m   1437\u001b[0m           ret = tf_session.TF_SessionRunCallable(\n\u001b[0;32m   1438\u001b[0m               \u001b[0mself\u001b[0m\u001b[1;33m.\u001b[0m\u001b[0m_session\u001b[0m\u001b[1;33m.\u001b[0m\u001b[0m_session\u001b[0m\u001b[1;33m,\u001b[0m \u001b[0mself\u001b[0m\u001b[1;33m.\u001b[0m\u001b[0m_handle\u001b[0m\u001b[1;33m,\u001b[0m \u001b[0margs\u001b[0m\u001b[1;33m,\u001b[0m \u001b[0mstatus\u001b[0m\u001b[1;33m,\u001b[0m\u001b[1;33m\u001b[0m\u001b[0m\n\u001b[1;32m-> 1439\u001b[1;33m               run_metadata_ptr)\n\u001b[0m\u001b[0;32m   1440\u001b[0m         \u001b[1;32mif\u001b[0m \u001b[0mrun_metadata\u001b[0m\u001b[1;33m:\u001b[0m\u001b[1;33m\u001b[0m\u001b[0m\n\u001b[0;32m   1441\u001b[0m           \u001b[0mproto_data\u001b[0m \u001b[1;33m=\u001b[0m \u001b[0mtf_session\u001b[0m\u001b[1;33m.\u001b[0m\u001b[0mTF_GetBuffer\u001b[0m\u001b[1;33m(\u001b[0m\u001b[0mrun_metadata_ptr\u001b[0m\u001b[1;33m)\u001b[0m\u001b[1;33m\u001b[0m\u001b[0m\n",
      "\u001b[1;31mKeyboardInterrupt\u001b[0m: "
     ]
    }
   ],
   "source": [
    "from keras import optimizers\n",
    "from sklearn.model_selection import GridSearchCV\n",
    "from keras.wrappers.scikit_learn import KerasClassifier\n",
    "\n",
    "learn_rate = [0.001, 0.01, 0.1, 0.2, 0.3]\n",
    "epochs = [i*10 for i in range(6)]\n",
    "batch_size = [10, 20, 40, 60, 80]\n",
    "X_train, X_test, y_train, y_test = train_test_split(X, classes, test_size=0.20)\n",
    "\n",
    "grid_values = {'epochs': epochs, \"lr\": learn_rate}\n",
    "model = KerasClassifier(build_fn=create_model)\n",
    "grid_acc = GridSearchCV(model, param_grid = grid_values,scoring = 'accuracy', cv=3)\n",
    "grid_result = grid_acc.fit(X_train, y_train)"
   ]
  },
  {
   "cell_type": "code",
   "execution_count": null,
   "metadata": {},
   "outputs": [],
   "source": [
    "print(\"Best: %f using %s\" % (grid_result.best_score_, grid_result.best_params_))\n",
    "means = grid_result.cv_results_['mean_test_score']\n",
    "stds = grid_result.cv_results_['std_test_score']\n",
    "params = grid_result.cv_results_['params']\n",
    "for mean, stdev, param in zip(means, stds, params):\n",
    "    print(\"%f (%f) with: %r\" % (mean, stdev, param))"
   ]
  },
  {
   "cell_type": "markdown",
   "metadata": {},
   "source": [
    "# Retrain"
   ]
  },
  {
   "cell_type": "markdown",
   "metadata": {},
   "source": [
    "Retrain model using paramters lr=0.001 and epochs=30 found using GridSearchCV."
   ]
  },
  {
   "cell_type": "code",
   "execution_count": 20,
   "metadata": {},
   "outputs": [
    {
     "name": "stdout",
     "output_type": "stream",
     "text": [
      "Epoch 1/30\n",
      "5/5 [==============================] - 3s 605ms/step - loss: 8.4003 - acc: 0.4288 - val_loss: 1.2252 - val_acc: 0.4706\n",
      "Epoch 2/30\n",
      "5/5 [==============================] - 1s 260ms/step - loss: 7.8455 - acc: 0.5132 - val_loss: 1.8603 - val_acc: 0.4118\n",
      "Epoch 3/30\n",
      "5/5 [==============================] - 1s 272ms/step - loss: 7.5574 - acc: 0.5311 - val_loss: 2.1003 - val_acc: 0.4412\n",
      "Epoch 4/30\n",
      "5/5 [==============================] - 1s 256ms/step - loss: 7.6612 - acc: 0.5247 - val_loss: 2.6023 - val_acc: 0.4118\n",
      "Epoch 5/30\n",
      "5/5 [==============================] - 1s 258ms/step - loss: 7.1420 - acc: 0.5569 - val_loss: 2.5174 - val_acc: 0.4706\n",
      "Epoch 6/30\n",
      "5/5 [==============================] - 2s 330ms/step - loss: 7.5574 - acc: 0.5311 - val_loss: 2.9095 - val_acc: 0.4118\n",
      "Epoch 7/30\n",
      "5/5 [==============================] - 1s 258ms/step - loss: 7.8455 - acc: 0.5132 - val_loss: 2.8637 - val_acc: 0.4412\n",
      "Epoch 8/30\n",
      "5/5 [==============================] - 1s 252ms/step - loss: 7.9611 - acc: 0.5061 - val_loss: 2.8052 - val_acc: 0.4706\n",
      "Epoch 9/30\n",
      "5/5 [==============================] - 2s 312ms/step - loss: 7.6378 - acc: 0.5261 - val_loss: 2.9419 - val_acc: 0.4412\n",
      "Epoch 10/30\n",
      "5/5 [==============================] - 2s 333ms/step - loss: 7.6495 - acc: 0.5254 - val_loss: 3.1065 - val_acc: 0.4118\n",
      "Epoch 11/30\n",
      "5/5 [==============================] - 2s 331ms/step - loss: 8.1688 - acc: 0.4932 - val_loss: 2.9900 - val_acc: 0.4412\n",
      "Epoch 12/30\n",
      "5/5 [==============================] - 1s 291ms/step - loss: 9.0682 - acc: 0.4374 - val_loss: 2.7353 - val_acc: 0.5000\n",
      "Epoch 13/30\n",
      "5/5 [==============================] - 2s 303ms/step - loss: 7.5339 - acc: 0.5326 - val_loss: 3.1215 - val_acc: 0.4118\n",
      "Epoch 14/30\n",
      "5/5 [==============================] - 1s 249ms/step - loss: 8.5607 - acc: 0.4689 - val_loss: 2.8174 - val_acc: 0.4706\n",
      "Epoch 15/30\n",
      "5/5 [==============================] - 1s 264ms/step - loss: 7.4536 - acc: 0.5376 - val_loss: 3.2140 - val_acc: 0.4118\n",
      "Epoch 16/30\n",
      "5/5 [==============================] - 1s 265ms/step - loss: 7.3380 - acc: 0.5447 - val_loss: 3.0290 - val_acc: 0.4412\n",
      "Epoch 17/30\n",
      "5/5 [==============================] - 1s 281ms/step - loss: 9.2642 - acc: 0.4252 - val_loss: 2.8314 - val_acc: 0.4706\n",
      "Epoch 18/30\n",
      "5/5 [==============================] - 1s 254ms/step - loss: 8.0415 - acc: 0.5011 - val_loss: 3.1743 - val_acc: 0.4118\n",
      "Epoch 19/30\n",
      "5/5 [==============================] - 1s 250ms/step - loss: 8.2726 - acc: 0.4868 - val_loss: 2.8754 - val_acc: 0.4706\n",
      "Epoch 20/30\n",
      "5/5 [==============================] - 1s 274ms/step - loss: 7.9493 - acc: 0.5068 - val_loss: 3.1693 - val_acc: 0.4118\n",
      "Epoch 21/30\n",
      "5/5 [==============================] - 1s 280ms/step - loss: 7.9611 - acc: 0.5061 - val_loss: 2.9901 - val_acc: 0.4412\n",
      "Epoch 22/30\n",
      "5/5 [==============================] - 1s 245ms/step - loss: 7.3497 - acc: 0.5440 - val_loss: 3.0108 - val_acc: 0.4412\n",
      "Epoch 23/30\n",
      "5/5 [==============================] - 1s 279ms/step - loss: 6.9343 - acc: 0.5698 - val_loss: 2.9518 - val_acc: 0.4412\n",
      "Epoch 24/30\n",
      "5/5 [==============================] - 2s 316ms/step - loss: 8.9526 - acc: 0.4446 - val_loss: 3.0962 - val_acc: 0.4412\n",
      "Epoch 25/30\n",
      "5/5 [==============================] - 1s 290ms/step - loss: 8.1570 - acc: 0.4939 - val_loss: 2.9281 - val_acc: 0.4412\n",
      "Epoch 26/30\n",
      "5/5 [==============================] - 1s 273ms/step - loss: 7.3732 - acc: 0.5426 - val_loss: 3.2093 - val_acc: 0.4118\n",
      "Epoch 27/30\n",
      "5/5 [==============================] - 2s 316ms/step - loss: 8.1453 - acc: 0.4946 - val_loss: 3.0094 - val_acc: 0.4412\n",
      "Epoch 28/30\n",
      "5/5 [==============================] - 1s 269ms/step - loss: 7.6495 - acc: 0.5254 - val_loss: 2.8155 - val_acc: 0.4706\n",
      "Epoch 29/30\n",
      "5/5 [==============================] - 1s 274ms/step - loss: 7.2459 - acc: 0.5505 - val_loss: 3.0424 - val_acc: 0.4412\n",
      "Epoch 30/30\n",
      "5/5 [==============================] - 1s 271ms/step - loss: 8.0649 - acc: 0.4996 - val_loss: 3.0698 - val_acc: 0.4412\n"
     ]
    }
   ],
   "source": [
    "model = create_model(lr=0.001)\n",
    "history = model.fit_generator(train_generator,\n",
    "        steps_per_epoch=5, #2000 // batch_size,\n",
    "        epochs=30,\n",
    "        validation_data=test_generator,\n",
    "        validation_steps=2) #800 // batch_size)\n",
    "model.save_weights('first_try.h5')"
   ]
  },
  {
   "cell_type": "code",
   "execution_count": 21,
   "metadata": {},
   "outputs": [
    {
     "data": {
      "image/png": "[encoded data removed]",
      "text/plain": [
       "<Figure size 432x288 with 1 Axes>"
      ]
     },
     "metadata": {
      "needs_background": "light"
     },
     "output_type": "display_data"
    }
   ],
   "source": [
    "import matplotlib.pyplot as plt\n",
    "\n",
    "plt.ylim(0, 1)\n",
    "plt.plot(history.history[\"acc\"], label=\"accuracy\")\n",
    "plt.plot(history.history[\"val_acc\"], label=\"val_accuracy\")\n",
    "plt.legend(loc=\"upper left\")\n",
    "plt.xlabel(\"epoch\")\n",
    "plt.ylabel(\"accuracy\")\n",
    "plt.xticks(np.arange(0, 30+1, 10));"
   ]
  },
  {
   "cell_type": "code",
   "execution_count": null,
   "metadata": {},
   "outputs": [],
   "source": []
  }
 ],
 "metadata": {
  "kernelspec": {
   "display_name": "Python 3",
   "language": "python",
   "name": "python3"
  },
  "language_info": {
   "codemirror_mode": {
    "name": "ipython",
    "version": 3
   },
   "file_extension": ".py",
   "mimetype": "text/x-python",
   "name": "python",
   "nbconvert_exporter": "python",
   "pygments_lexer": "ipython3",
   "version": "3.6.0"
  }
 },
 "nbformat": 4,
 "nbformat_minor": 2
}
